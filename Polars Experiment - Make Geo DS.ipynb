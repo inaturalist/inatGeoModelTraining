{
 "cells": [
  {
   "cell_type": "code",
   "execution_count": 19,
   "id": "c9b007a3-558d-4fc6-a311-3f34a90387fe",
   "metadata": {},
   "outputs": [],
   "source": [
    "import math\n",
    "import os\n",
    "from pathlib import Path\n",
    "\n",
    "import h3\n",
    "import numpy as np\n",
    "import polars as pl\n",
    "import pandas as pd\n",
    "import tensorflow as tf\n",
    "from tqdm.auto import tqdm"
   ]
  },
  {
   "cell_type": "code",
   "execution_count": 2,
   "id": "baa8d652-4a6d-46f0-a9d0-5c0d3d47576f",
   "metadata": {},
   "outputs": [],
   "source": [
    "params = {\n",
    "    \"export_dir\": \"vision-export-20240929050006-aka-2.17\",\n",
    "    \"export_short_version\": \"2.17\",\n",
    "    \"train_only_cid_data\": True,\n",
    "    \"train_only_wild_data\": False,\n",
    "    \"h3_resolution\": 6,\n",
    "    \"num_random_samples\": 100_000,\n",
    "    \"elevation_file\": \"elevation_h3_resolution6.csv\",\n",
    "    \"experiment_dir\": \"/data-ssd/alex/experiments/geo_prior_tf/2_17\",\n",
    "    \"batch_size\": 1024,\n",
    "    \"num_epochs\": 200,\n",
    "    \"initial_lr\": 0.0005,\n",
    "    \"shuffle_buffer_size\": 50_000,\n",
    "    \"full_shuffle_before_tfrecords\": False,\n",
    "    \"lr_warmup_cosine_decay\": True,\n",
    "    \"wandb_project\": \"geomodel_tf\",\n",
    "}"
   ]
  },
  {
   "cell_type": "code",
   "execution_count": 3,
   "id": "edfdf33f-3c43-4e7b-9bc8-e3f5adb20bde",
   "metadata": {},
   "outputs": [],
   "source": [
    "h3_column_name = \"h3_0{}\".format(params[\"h3_resolution\"])"
   ]
  },
  {
   "cell_type": "code",
   "execution_count": 4,
   "id": "24701de7-a39c-40b2-923d-b41804bb7b91",
   "metadata": {},
   "outputs": [],
   "source": [
    "export_dir = Path(params[\"export_dir\"])"
   ]
  },
  {
   "cell_type": "code",
   "execution_count": 5,
   "id": "14a5b472-56de-4f89-9624-3600fa0c41fd",
   "metadata": {},
   "outputs": [],
   "source": [
    "df = pl.read_parquet(\n",
    "    export_dir / \"spatial_data.parquet\",\n",
    "    columns=[\"latitude\", \"longitude\", \"spatial_class_id\", \"community\", \"captive\"]\n",
    ")"
   ]
  },
  {
   "cell_type": "code",
   "execution_count": 6,
   "id": "4f036dc3-5b51-4628-b702-a790caa89e73",
   "metadata": {},
   "outputs": [
    {
     "data": {
      "text/html": [
       "<div><style>\n",
       ".dataframe > thead > tr,\n",
       ".dataframe > tbody > tr {\n",
       "  text-align: right;\n",
       "  white-space: pre-wrap;\n",
       "}\n",
       "</style>\n",
       "<small>shape: (3, 5)</small><table border=\"1\" class=\"dataframe\"><thead><tr><th>latitude</th><th>longitude</th><th>spatial_class_id</th><th>community</th><th>captive</th></tr><tr><td>f64</td><td>f64</td><td>i64</td><td>i64</td><td>i64</td></tr></thead><tbody><tr><td>-36.8509</td><td>174.7869</td><td>96396</td><td>1</td><td>0</td></tr><tr><td>34.4892</td><td>-84.8568</td><td>134325</td><td>0</td><td>0</td></tr><tr><td>19.0619</td><td>-104.3046</td><td>81171</td><td>1</td><td>0</td></tr></tbody></table></div>"
      ],
      "text/plain": [
       "shape: (3, 5)\n",
       "┌──────────┬───────────┬──────────────────┬───────────┬─────────┐\n",
       "│ latitude ┆ longitude ┆ spatial_class_id ┆ community ┆ captive │\n",
       "│ ---      ┆ ---       ┆ ---              ┆ ---       ┆ ---     │\n",
       "│ f64      ┆ f64       ┆ i64              ┆ i64       ┆ i64     │\n",
       "╞══════════╪═══════════╪══════════════════╪═══════════╪═════════╡\n",
       "│ -36.8509 ┆ 174.7869  ┆ 96396            ┆ 1         ┆ 0       │\n",
       "│ 34.4892  ┆ -84.8568  ┆ 134325           ┆ 0         ┆ 0       │\n",
       "│ 19.0619  ┆ -104.3046 ┆ 81171            ┆ 1         ┆ 0       │\n",
       "└──────────┴───────────┴──────────────────┴───────────┴─────────┘"
      ]
     },
     "execution_count": 6,
     "metadata": {},
     "output_type": "execute_result"
    }
   ],
   "source": [
    "df.sample(3)"
   ]
  },
  {
   "cell_type": "code",
   "execution_count": 7,
   "id": "6f9dc360-ac6e-4f11-aa00-a96dd53cad19",
   "metadata": {},
   "outputs": [
    {
     "data": {
      "text/html": [
       "<div><style>\n",
       ".dataframe > thead > tr,\n",
       ".dataframe > tbody > tr {\n",
       "  text-align: right;\n",
       "  white-space: pre-wrap;\n",
       "}\n",
       "</style>\n",
       "<small>shape: (95_903, 4)</small><table border=\"1\" class=\"dataframe\"><thead><tr><th>taxon_id</th><th>leaf_class_id</th><th>spatial_class_id</th><th>name</th></tr><tr><td>i64</td><td>i64</td><td>i64</td><td>str</td></tr></thead><tbody><tr><td>129726</td><td>95877</td><td>95877</td><td>&quot;Cephalochordata&quot;</td></tr><tr><td>48272</td><td>40739</td><td>40739</td><td>&quot;Ciona intestinalis&quot;</td></tr><tr><td>81614</td><td>30262</td><td>30262</td><td>&quot;Ciona savignyi&quot;</td></tr><tr><td>712964</td><td>54943</td><td>54943</td><td>&quot;Ciona robusta&quot;</td></tr><tr><td>472689</td><td>62312</td><td>62312</td><td>&quot;Ascidia mentula&quot;</td></tr><tr><td>&hellip;</td><td>&hellip;</td><td>&hellip;</td><td>&hellip;</td></tr><tr><td>783080</td><td>95309</td><td>95309</td><td>&quot;Firstpapillomavirinae&quot;</td></tr><tr><td>914165</td><td>90922</td><td>90922</td><td>&quot;Begomovirus&quot;</td></tr><tr><td>1538530</td><td>29137</td><td>29137</td><td>&quot;Bracoviriform congregatae&quot;</td></tr><tr><td>1538531</td><td>45009</td><td>45009</td><td>&quot;Bracoviriform glomeratae&quot;</td></tr><tr><td>151817</td><td>95900</td><td>95900</td><td>&quot;Archaea&quot;</td></tr></tbody></table></div>"
      ],
      "text/plain": [
       "shape: (95_903, 4)\n",
       "┌──────────┬───────────────┬──────────────────┬───────────────────────────┐\n",
       "│ taxon_id ┆ leaf_class_id ┆ spatial_class_id ┆ name                      │\n",
       "│ ---      ┆ ---           ┆ ---              ┆ ---                       │\n",
       "│ i64      ┆ i64           ┆ i64              ┆ str                       │\n",
       "╞══════════╪═══════════════╪══════════════════╪═══════════════════════════╡\n",
       "│ 129726   ┆ 95877         ┆ 95877            ┆ Cephalochordata           │\n",
       "│ 48272    ┆ 40739         ┆ 40739            ┆ Ciona intestinalis        │\n",
       "│ 81614    ┆ 30262         ┆ 30262            ┆ Ciona savignyi            │\n",
       "│ 712964   ┆ 54943         ┆ 54943            ┆ Ciona robusta             │\n",
       "│ 472689   ┆ 62312         ┆ 62312            ┆ Ascidia mentula           │\n",
       "│ …        ┆ …             ┆ …                ┆ …                         │\n",
       "│ 783080   ┆ 95309         ┆ 95309            ┆ Firstpapillomavirinae     │\n",
       "│ 914165   ┆ 90922         ┆ 90922            ┆ Begomovirus               │\n",
       "│ 1538530  ┆ 29137         ┆ 29137            ┆ Bracoviriform congregatae │\n",
       "│ 1538531  ┆ 45009         ┆ 45009            ┆ Bracoviriform glomeratae  │\n",
       "│ 151817   ┆ 95900         ┆ 95900            ┆ Archaea                   │\n",
       "└──────────┴───────────────┴──────────────────┴───────────────────────────┘"
      ]
     },
     "execution_count": 7,
     "metadata": {},
     "output_type": "execute_result"
    }
   ],
   "source": [
    "tax = pl.read_csv(\n",
    "    export_dir / \"taxonomy.csv\",\n",
    "    columns=[\"leaf_class_id\", \"spatial_class_id\", \"taxon_id\", \"name\"],\n",
    ")\n",
    "leaf_tax = tax.filter(\n",
    "    ~pl.col(\"leaf_class_id\").is_null()\n",
    ")\n",
    "leaf_tax"
   ]
  },
  {
   "cell_type": "code",
   "execution_count": 8,
   "id": "3edfb3d3-298b-4c40-9c87-346e89103eb7",
   "metadata": {},
   "outputs": [],
   "source": [
    "# only leaves\n",
    "df = df.filter(\n",
    "    pl.col(\"spatial_class_id\").is_in(leaf_tax[\"spatial_class_id\"])\n",
    ")"
   ]
  },
  {
   "cell_type": "code",
   "execution_count": 9,
   "id": "335bba9c-677e-49f4-afe9-b6291ed0375e",
   "metadata": {},
   "outputs": [],
   "source": [
    "# drop non-cid data\n",
    "df = df.filter(\n",
    "    pl.col(\"community\") == 1\n",
    ")"
   ]
  },
  {
   "cell_type": "code",
   "execution_count": 10,
   "id": "c90d5c51-67ac-4125-90d7-884a24a72fea",
   "metadata": {},
   "outputs": [],
   "source": [
    "df = df.rename({\n",
    "    \"latitude\": \"lat\",\n",
    "    \"longitude\": \"lng\",\n",
    "})"
   ]
  },
  {
   "cell_type": "code",
   "execution_count": 11,
   "id": "f374c362-7685-46fb-acff-b05d878635ab",
   "metadata": {},
   "outputs": [
    {
     "name": "stdout",
     "output_type": "stream",
     "text": [
      "  6 items filtered due to invalid locations\n"
     ]
    }
   ],
   "source": [
    "# drop invalid locations\n",
    "num_obs = df.shape[0]\n",
    "df = df.filter([\n",
    "    pl.col(\"lat\") < 90,\n",
    "    pl.col(\"lat\") > -90,\n",
    "    pl.col(\"lng\") < 180,\n",
    "    pl.col(\"lng\") > -180,\n",
    "])\n",
    "\n",
    "if num_obs - df.shape[0] > 0:\n",
    "    print(\" \", num_obs - df.shape[0], \"items filtered due to invalid locations\")\n",
    "else:\n",
    "    print(\"no invalid locations found\")"
   ]
  },
  {
   "cell_type": "code",
   "execution_count": 12,
   "id": "b341d554-de2f-496a-94b3-8f79a47c878b",
   "metadata": {},
   "outputs": [
    {
     "name": "stdout",
     "output_type": "stream",
     "text": [
      "  474 items filtered due to null island\n"
     ]
    }
   ],
   "source": [
    "# drop invalid locations\n",
    "num_obs = df.shape[0]\n",
    "df = df.filter([\n",
    "    pl.col(\"lat\") != 0,\n",
    "    pl.col(\"lng\") != 0,\n",
    "])\n",
    "\n",
    "if num_obs - df.shape[0] > 0:\n",
    "    print(\" \", num_obs - df.shape[0], \"items filtered due to null island\")\n",
    "else:\n",
    "    print(\"no invalid locations found\")"
   ]
  },
  {
   "cell_type": "code",
   "execution_count": 13,
   "id": "74442955-9cef-4a80-9416-0007825ecf1c",
   "metadata": {},
   "outputs": [
    {
     "data": {
      "text/html": [
       "<div><style>\n",
       ".dataframe > thead > tr,\n",
       ".dataframe > tbody > tr {\n",
       "  text-align: right;\n",
       "  white-space: pre-wrap;\n",
       "}\n",
       "</style>\n",
       "<small>shape: (3, 3)</small><table border=\"1\" class=\"dataframe\"><thead><tr><th>lat</th><th>lng</th><th>spatial_class_id</th></tr><tr><td>f64</td><td>f64</td><td>i64</td></tr></thead><tbody><tr><td>42.0373</td><td>-88.0097</td><td>64223</td></tr><tr><td>43.2931</td><td>-79.8786</td><td>72230</td></tr><tr><td>37.0545</td><td>-122.0213</td><td>8922</td></tr></tbody></table></div>"
      ],
      "text/plain": [
       "shape: (3, 3)\n",
       "┌─────────┬───────────┬──────────────────┐\n",
       "│ lat     ┆ lng       ┆ spatial_class_id │\n",
       "│ ---     ┆ ---       ┆ ---              │\n",
       "│ f64     ┆ f64       ┆ i64              │\n",
       "╞═════════╪═══════════╪══════════════════╡\n",
       "│ 42.0373 ┆ -88.0097  ┆ 64223            │\n",
       "│ 43.2931 ┆ -79.8786  ┆ 72230            │\n",
       "│ 37.0545 ┆ -122.0213 ┆ 8922             │\n",
       "└─────────┴───────────┴──────────────────┘"
      ]
     },
     "execution_count": 13,
     "metadata": {},
     "output_type": "execute_result"
    }
   ],
   "source": [
    "df = df[[\"lat\", \"lng\", \"spatial_class_id\"]]\n",
    "df.sample(3)"
   ]
  },
  {
   "cell_type": "code",
   "execution_count": 14,
   "id": "4f427442-fb83-40cf-8044-1d72b1690439",
   "metadata": {},
   "outputs": [
    {
     "name": "stdout",
     "output_type": "stream",
     "text": [
      "CPU times: user 1min 10s, sys: 1.54 s, total: 1min 12s\n",
      "Wall time: 1min 12s\n"
     ]
    }
   ],
   "source": [
    "%%time \n",
    "\n",
    "dfh3 = df.with_columns(\n",
    "    pl.struct(\"lat\", \"lng\")\n",
    "    .map_elements(\n",
    "        lambda x: h3.geo_to_h3(x[\"lat\"], x[\"lng\"], params[\"h3_resolution\"]),\n",
    "        return_dtype=str\n",
    "    )\n",
    "    .alias(h3_column_name)\n",
    ")"
   ]
  },
  {
   "cell_type": "code",
   "execution_count": 15,
   "id": "9de7f6b6-ac09-4d27-86b4-93cb2d26ed4a",
   "metadata": {},
   "outputs": [],
   "source": [
    "dfh3_dense = (\n",
    "    dfh3\n",
    "    .group_by(h3_column_name)\n",
    "    .agg(\n",
    "        pl.col(\"spatial_class_id\")\n",
    "        .unique()\n",
    "    )\n",
    ")"
   ]
  },
  {
   "cell_type": "code",
   "execution_count": 16,
   "id": "8d83a8b8-da1f-4186-ba81-ef807f008f03",
   "metadata": {},
   "outputs": [
    {
     "data": {
      "text/html": [
       "<div><style>\n",
       ".dataframe > thead > tr,\n",
       ".dataframe > tbody > tr {\n",
       "  text-align: right;\n",
       "  white-space: pre-wrap;\n",
       "}\n",
       "</style>\n",
       "<small>shape: (831_455, 2)</small><table border=\"1\" class=\"dataframe\"><thead><tr><th>h3_06</th><th>spatial_class_id</th></tr><tr><td>str</td><td>list[i64]</td></tr></thead><tbody><tr><td>&quot;86bc58897ffffff&quot;</td><td>[87658]</td></tr><tr><td>&quot;8628b322fffffff&quot;</td><td>[16230, 23291, … 83700]</td></tr><tr><td>&quot;86488e6f7ffffff&quot;</td><td>[793, 916, … 93286]</td></tr><tr><td>&quot;8628a4777ffffff&quot;</td><td>[18007, 19839, … 70627]</td></tr><tr><td>&quot;8626b1497ffffff&quot;</td><td>[52949]</td></tr><tr><td>&hellip;</td><td>&hellip;</td></tr><tr><td>&quot;862810ad7ffffff&quot;</td><td>[793, 825, … 86095]</td></tr><tr><td>&quot;862b1a727ffffff&quot;</td><td>[430, 801, … 86896]</td></tr><tr><td>&quot;8660b4977ffffff&quot;</td><td>[4678, 8481, … 79449]</td></tr><tr><td>&quot;86b242aefffffff&quot;</td><td>[727, 1542, … 93635]</td></tr><tr><td>&quot;860f5ca77ffffff&quot;</td><td>[44406]</td></tr></tbody></table></div>"
      ],
      "text/plain": [
       "shape: (831_455, 2)\n",
       "┌─────────────────┬─────────────────────────┐\n",
       "│ h3_06           ┆ spatial_class_id        │\n",
       "│ ---             ┆ ---                     │\n",
       "│ str             ┆ list[i64]               │\n",
       "╞═════════════════╪═════════════════════════╡\n",
       "│ 86bc58897ffffff ┆ [87658]                 │\n",
       "│ 8628b322fffffff ┆ [16230, 23291, … 83700] │\n",
       "│ 86488e6f7ffffff ┆ [793, 916, … 93286]     │\n",
       "│ 8628a4777ffffff ┆ [18007, 19839, … 70627] │\n",
       "│ 8626b1497ffffff ┆ [52949]                 │\n",
       "│ …               ┆ …                       │\n",
       "│ 862810ad7ffffff ┆ [793, 825, … 86095]     │\n",
       "│ 862b1a727ffffff ┆ [430, 801, … 86896]     │\n",
       "│ 8660b4977ffffff ┆ [4678, 8481, … 79449]   │\n",
       "│ 86b242aefffffff ┆ [727, 1542, … 93635]    │\n",
       "│ 860f5ca77ffffff ┆ [44406]                 │\n",
       "└─────────────────┴─────────────────────────┘"
      ]
     },
     "execution_count": 16,
     "metadata": {},
     "output_type": "execute_result"
    }
   ],
   "source": [
    "dfh3_dense"
   ]
  },
  {
   "cell_type": "markdown",
   "id": "18ec36f7-60ec-43fd-a931-e2dc0b9246f5",
   "metadata": {},
   "source": [
    "# random samples for negatives"
   ]
  },
  {
   "cell_type": "code",
   "execution_count": 20,
   "id": "8ef5f407-45c7-4162-8e22-ef4468b926af",
   "metadata": {},
   "outputs": [],
   "source": [
    "def make_samples(batch_size):\n",
    "    rand_loc = np.random.uniform(size=(batch_size, 2))\n",
    "\n",
    "    theta1 = 2.0 * math.pi * rand_loc[:, 0]\n",
    "    theta2 = np.arccos(2.0 * rand_loc[:, 1] - 1.0)\n",
    "\n",
    "    lat = 1.0 - 2.0 * theta2 / math.pi\n",
    "    lng = (theta1 / math.pi) - 1.0\n",
    "\n",
    "    return list(zip(lng, lat))"
   ]
  },
  {
   "cell_type": "code",
   "execution_count": 21,
   "id": "f06cfd12-d5e5-4627-a677-a6f63f701f2b",
   "metadata": {},
   "outputs": [],
   "source": [
    "samples = make_samples(params[\"num_random_samples\"])\n",
    "scaled_samples = [(x * 180, y * 90) for x, y in samples]\n",
    "scaled_samples = list(zip(*scaled_samples))"
   ]
  },
  {
   "cell_type": "code",
   "execution_count": 23,
   "id": "e99a9138-9bb5-4758-b09b-2e75741b82bf",
   "metadata": {},
   "outputs": [
    {
     "data": {
      "text/html": [
       "<div><style>\n",
       ".dataframe > thead > tr,\n",
       ".dataframe > tbody > tr {\n",
       "  text-align: right;\n",
       "  white-space: pre-wrap;\n",
       "}\n",
       "</style>\n",
       "<small>shape: (5, 3)</small><table border=\"1\" class=\"dataframe\"><thead><tr><th>lng</th><th>lat</th><th>h3_06</th></tr><tr><td>f64</td><td>f64</td><td>str</td></tr></thead><tbody><tr><td>-19.883455</td><td>19.905386</td><td>&quot;865583647ffffff&quot;</td></tr><tr><td>-7.259882</td><td>-13.855492</td><td>&quot;869800b97ffffff&quot;</td></tr><tr><td>-14.258337</td><td>-5.392309</td><td>&quot;867d86c37ffffff&quot;</td></tr><tr><td>-131.941698</td><td>-1.167177</td><td>&quot;86780d46fffffff&quot;</td></tr><tr><td>44.114396</td><td>9.860125</td><td>&quot;8652d332fffffff&quot;</td></tr></tbody></table></div>"
      ],
      "text/plain": [
       "shape: (5, 3)\n",
       "┌─────────────┬────────────┬─────────────────┐\n",
       "│ lng         ┆ lat        ┆ h3_06           │\n",
       "│ ---         ┆ ---        ┆ ---             │\n",
       "│ f64         ┆ f64        ┆ str             │\n",
       "╞═════════════╪════════════╪═════════════════╡\n",
       "│ -19.883455  ┆ 19.905386  ┆ 865583647ffffff │\n",
       "│ -7.259882   ┆ -13.855492 ┆ 869800b97ffffff │\n",
       "│ -14.258337  ┆ -5.392309  ┆ 867d86c37ffffff │\n",
       "│ -131.941698 ┆ -1.167177  ┆ 86780d46fffffff │\n",
       "│ 44.114396   ┆ 9.860125   ┆ 8652d332fffffff │\n",
       "└─────────────┴────────────┴─────────────────┘"
      ]
     },
     "execution_count": 23,
     "metadata": {},
     "output_type": "execute_result"
    }
   ],
   "source": [
    "negatives_df = pl.DataFrame(\n",
    "    scaled_samples,\n",
    "    [\"lng\", \"lat\"]\n",
    ")\n",
    "negatives_dfh3 = negatives_df.with_columns(\n",
    "    pl.struct(\"lat\", \"lng\")\n",
    "    .map_elements(\n",
    "        lambda x: h3.geo_to_h3(x[\"lat\"], x[\"lng\"], params[\"h3_resolution\"]),\n",
    "        return_dtype=str\n",
    "    )\n",
    "    .alias(h3_column_name)\n",
    ")\n",
    "negatives_dfh3.sample(5)"
   ]
  },
  {
   "cell_type": "code",
   "execution_count": 24,
   "id": "cff15acd-fbe5-422e-8563-711eb230885d",
   "metadata": {},
   "outputs": [],
   "source": [
    "negatives_dfh3 = negatives_dfh3.unique(subset=h3_column_name)"
   ]
  },
  {
   "cell_type": "code",
   "execution_count": 25,
   "id": "c734da05-ee7a-4282-b587-19ff2d6d304d",
   "metadata": {},
   "outputs": [],
   "source": [
    "# merge negatives/empties with spatial data"
   ]
  },
  {
   "cell_type": "code",
   "execution_count": 26,
   "id": "0f729c5e-e336-4803-863e-5bf2b566fe00",
   "metadata": {},
   "outputs": [],
   "source": [
    "# trim any negatives that would duplicate positives\n",
    "negatives_dfh3 = negatives_dfh3.filter(\n",
    "    ~pl.col(h3_column_name).is_in(dfh3_dense[h3_column_name])\n",
    ")"
   ]
  },
  {
   "cell_type": "code",
   "execution_count": 29,
   "id": "7e2d973b-dc26-488f-b3fc-194e02692353",
   "metadata": {},
   "outputs": [
    {
     "data": {
      "text/html": [
       "<div><style>\n",
       ".dataframe > thead > tr,\n",
       ".dataframe > tbody > tr {\n",
       "  text-align: right;\n",
       "  white-space: pre-wrap;\n",
       "}\n",
       "</style>\n",
       "<small>shape: (5, 2)</small><table border=\"1\" class=\"dataframe\"><thead><tr><th>h3_06</th><th>spatial_class_id</th></tr><tr><td>str</td><td>list[i64]</td></tr></thead><tbody><tr><td>&quot;86480daa7ffffff&quot;</td><td>[6820, 9105, … 78664]</td></tr><tr><td>&quot;8630f319fffffff&quot;</td><td>[573, 1507, … 86586]</td></tr><tr><td>&quot;86195492fffffff&quot;</td><td>[44, 532, … 87574]</td></tr><tr><td>&quot;860c0636fffffff&quot;</td><td>[3995, 12311, … 81862]</td></tr><tr><td>&quot;8644f3a4fffffff&quot;</td><td>[18238, 31641, … 75219]</td></tr></tbody></table></div>"
      ],
      "text/plain": [
       "shape: (5, 2)\n",
       "┌─────────────────┬─────────────────────────┐\n",
       "│ h3_06           ┆ spatial_class_id        │\n",
       "│ ---             ┆ ---                     │\n",
       "│ str             ┆ list[i64]               │\n",
       "╞═════════════════╪═════════════════════════╡\n",
       "│ 86480daa7ffffff ┆ [6820, 9105, … 78664]   │\n",
       "│ 8630f319fffffff ┆ [573, 1507, … 86586]    │\n",
       "│ 86195492fffffff ┆ [44, 532, … 87574]      │\n",
       "│ 860c0636fffffff ┆ [3995, 12311, … 81862]  │\n",
       "│ 8644f3a4fffffff ┆ [18238, 31641, … 75219] │\n",
       "└─────────────────┴─────────────────────────┘"
      ]
     },
     "execution_count": 29,
     "metadata": {},
     "output_type": "execute_result"
    }
   ],
   "source": [
    "dfh3_dense.sample(5)"
   ]
  },
  {
   "cell_type": "code",
   "execution_count": 30,
   "id": "c0c63638-6d22-4721-9dd0-1c0c84b33eaa",
   "metadata": {},
   "outputs": [],
   "source": [
    "negatives_dfh3 = negatives_dfh3.with_columns(\n",
    "    pl.lit([], dtype=pl.datatypes.List(pl.datatypes.Int64))\n",
    "    .alias(\"spatial_class_id\")\n",
    ")"
   ]
  },
  {
   "cell_type": "code",
   "execution_count": 31,
   "id": "66c7b008-bc9e-4bb2-8386-24242e700da1",
   "metadata": {},
   "outputs": [
    {
     "data": {
      "text/html": [
       "<div><style>\n",
       ".dataframe > thead > tr,\n",
       ".dataframe > tbody > tr {\n",
       "  text-align: right;\n",
       "  white-space: pre-wrap;\n",
       "}\n",
       "</style>\n",
       "<small>shape: (3, 2)</small><table border=\"1\" class=\"dataframe\"><thead><tr><th>h3_06</th><th>spatial_class_id</th></tr><tr><td>str</td><td>list[i64]</td></tr></thead><tbody><tr><td>&quot;86cd4934fffffff&quot;</td><td>[]</td></tr><tr><td>&quot;86cfab937ffffff&quot;</td><td>[]</td></tr><tr><td>&quot;86ee1c06fffffff&quot;</td><td>[]</td></tr></tbody></table></div>"
      ],
      "text/plain": [
       "shape: (3, 2)\n",
       "┌─────────────────┬──────────────────┐\n",
       "│ h3_06           ┆ spatial_class_id │\n",
       "│ ---             ┆ ---              │\n",
       "│ str             ┆ list[i64]        │\n",
       "╞═════════════════╪══════════════════╡\n",
       "│ 86cd4934fffffff ┆ []               │\n",
       "│ 86cfab937ffffff ┆ []               │\n",
       "│ 86ee1c06fffffff ┆ []               │\n",
       "└─────────────────┴──────────────────┘"
      ]
     },
     "execution_count": 31,
     "metadata": {},
     "output_type": "execute_result"
    }
   ],
   "source": [
    "negatives_dfh3 = negatives_dfh3[[h3_column_name, \"spatial_class_id\"]]\n",
    "negatives_dfh3.sample(3)"
   ]
  },
  {
   "cell_type": "code",
   "execution_count": 32,
   "id": "38ca2207-5ee6-42cc-bc99-b98863c65f58",
   "metadata": {},
   "outputs": [],
   "source": [
    "combined = pl.concat([\n",
    "    dfh3_dense,\n",
    "    negatives_dfh3,\n",
    "])"
   ]
  },
  {
   "cell_type": "code",
   "execution_count": 33,
   "id": "eaf6fba6-4c33-4564-ab94-4552f853bb92",
   "metadata": {},
   "outputs": [
    {
     "data": {
      "text/plain": [
       "925122"
      ]
     },
     "execution_count": 33,
     "metadata": {},
     "output_type": "execute_result"
    }
   ],
   "source": [
    "len(combined)"
   ]
  },
  {
   "cell_type": "markdown",
   "id": "775a415e-3b6c-40da-abd7-490486f14e79",
   "metadata": {},
   "source": [
    "# add elevation"
   ]
  },
  {
   "cell_type": "code",
   "execution_count": 34,
   "id": "4c6c6951-37a4-4323-b508-95535d47b6a3",
   "metadata": {},
   "outputs": [],
   "source": [
    "elevation = pl.read_csv(\n",
    "    params[\"elevation_file\"]\n",
    ")"
   ]
  },
  {
   "cell_type": "code",
   "execution_count": 36,
   "id": "549ae9f3-8e2e-400c-81c3-9ebb2c9f4c59",
   "metadata": {},
   "outputs": [
    {
     "data": {
      "text/html": [
       "<div><style>\n",
       ".dataframe > thead > tr,\n",
       ".dataframe > tbody > tr {\n",
       "  text-align: right;\n",
       "  white-space: pre-wrap;\n",
       "}\n",
       "</style>\n",
       "<small>shape: (5, 2)</small><table border=\"1\" class=\"dataframe\"><thead><tr><th>h3_06</th><th>elevation</th></tr><tr><td>str</td><td>f64</td></tr></thead><tbody><tr><td>&quot;868b6b5a7ffffff&quot;</td><td>437.265306</td></tr><tr><td>&quot;86c746317ffffff&quot;</td><td>-32768.0</td></tr><tr><td>&quot;86646b00fffffff&quot;</td><td>-32768.0</td></tr><tr><td>&quot;86b75d1a7ffffff&quot;</td><td>-32768.0</td></tr><tr><td>&quot;86d4726afffffff&quot;</td><td>-32768.0</td></tr></tbody></table></div>"
      ],
      "text/plain": [
       "shape: (5, 2)\n",
       "┌─────────────────┬────────────┐\n",
       "│ h3_06           ┆ elevation  │\n",
       "│ ---             ┆ ---        │\n",
       "│ str             ┆ f64        │\n",
       "╞═════════════════╪════════════╡\n",
       "│ 868b6b5a7ffffff ┆ 437.265306 │\n",
       "│ 86c746317ffffff ┆ -32768.0   │\n",
       "│ 86646b00fffffff ┆ -32768.0   │\n",
       "│ 86b75d1a7ffffff ┆ -32768.0   │\n",
       "│ 86d4726afffffff ┆ -32768.0   │\n",
       "└─────────────────┴────────────┘"
      ]
     },
     "execution_count": 36,
     "metadata": {},
     "output_type": "execute_result"
    }
   ],
   "source": [
    "elevation.sample(5)"
   ]
  },
  {
   "cell_type": "code",
   "execution_count": 37,
   "id": "5d6bb405-b457-4415-92b0-942462c814d6",
   "metadata": {},
   "outputs": [],
   "source": [
    "elevation = elevation.with_columns(\n",
    "    pl.when(pl.col(\"elevation\") > 0)\n",
    "    .then(pl.col(\"elevation\") / pl.col(\"elevation\").max())\n",
    "    .otherwise(pl.col(\"elevation\") / pl.col(\"elevation\").min() * -1)\n",
    ")"
   ]
  },
  {
   "cell_type": "code",
   "execution_count": 38,
   "id": "e808bdb4-efdc-4258-b7f6-9606e8918446",
   "metadata": {},
   "outputs": [],
   "source": [
    "combined_with_elevation = combined.join(elevation, on=h3_column_name)"
   ]
  },
  {
   "cell_type": "code",
   "execution_count": 39,
   "id": "2545a4e7-4e82-4636-b2ac-636d7ce11eb1",
   "metadata": {},
   "outputs": [
    {
     "data": {
      "text/html": [
       "<div><style>\n",
       ".dataframe > thead > tr,\n",
       ".dataframe > tbody > tr {\n",
       "  text-align: right;\n",
       "  white-space: pre-wrap;\n",
       "}\n",
       "</style>\n",
       "<small>shape: (5, 3)</small><table border=\"1\" class=\"dataframe\"><thead><tr><th>h3_06</th><th>spatial_class_id</th><th>elevation</th></tr><tr><td>str</td><td>list[i64]</td><td>f64</td></tr></thead><tbody><tr><td>&quot;860885a67ffffff&quot;</td><td>[68854]</td><td>-0.015893</td></tr><tr><td>&quot;8628a58efffffff&quot;</td><td>[327]</td><td>0.17583</td></tr><tr><td>&quot;866619d07ffffff&quot;</td><td>[151, 535, … 93432]</td><td>0.326015</td></tr><tr><td>&quot;86c2e8927ffffff&quot;</td><td>[42802]</td><td>0.009541</td></tr><tr><td>&quot;8626eb097ffffff&quot;</td><td>[71982]</td><td>0.038421</td></tr></tbody></table></div>"
      ],
      "text/plain": [
       "shape: (5, 3)\n",
       "┌─────────────────┬─────────────────────┬───────────┐\n",
       "│ h3_06           ┆ spatial_class_id    ┆ elevation │\n",
       "│ ---             ┆ ---                 ┆ ---       │\n",
       "│ str             ┆ list[i64]           ┆ f64       │\n",
       "╞═════════════════╪═════════════════════╪═══════════╡\n",
       "│ 860885a67ffffff ┆ [68854]             ┆ -0.015893 │\n",
       "│ 8628a58efffffff ┆ [327]               ┆ 0.17583   │\n",
       "│ 866619d07ffffff ┆ [151, 535, … 93432] ┆ 0.326015  │\n",
       "│ 86c2e8927ffffff ┆ [42802]             ┆ 0.009541  │\n",
       "│ 8626eb097ffffff ┆ [71982]             ┆ 0.038421  │\n",
       "└─────────────────┴─────────────────────┴───────────┘"
      ]
     },
     "execution_count": 39,
     "metadata": {},
     "output_type": "execute_result"
    }
   ],
   "source": [
    "combined_with_elevation.sample(5)"
   ]
  },
  {
   "cell_type": "code",
   "execution_count": null,
   "id": "d172cbac-c00d-4f1b-b876-cf7a0ebf6095",
   "metadata": {},
   "outputs": [],
   "source": []
  },
  {
   "cell_type": "markdown",
   "id": "70583e6e-3c1c-416b-8b2f-4a143b44b775",
   "metadata": {},
   "source": [
    "# convert to geo and normalize"
   ]
  },
  {
   "cell_type": "code",
   "execution_count": 40,
   "id": "def3e7ec-4773-4d5d-adb7-0eddb096a88a",
   "metadata": {},
   "outputs": [
    {
     "name": "stderr",
     "output_type": "stream",
     "text": [
      "/var/folders/f3/h4w37k7j5gn9m9bb582rkx1h0000gn/T/ipykernel_21058/2082406188.py:1: MapWithoutReturnDtypeWarning: Calling `map_elements` without specifying `return_dtype` can lead to unpredictable results. Specify `return_dtype` to silence this warning.\n",
      "  combined_with_elevation = combined_with_elevation.with_columns(\n"
     ]
    }
   ],
   "source": [
    "combined_with_elevation = combined_with_elevation.with_columns(\n",
    "    pl.col(h3_column_name)\n",
    "    .map_elements(lambda x: h3.h3_to_geo(x))\n",
    "    .alias(\"xy\"),\n",
    ")"
   ]
  },
  {
   "cell_type": "code",
   "execution_count": 41,
   "id": "204d55c7-e7f8-4006-ad4c-18fa774955d7",
   "metadata": {},
   "outputs": [],
   "source": [
    "combined_with_elevation = combined_with_elevation.with_columns([\n",
    "    pl.col(\"xy\")\n",
    "    .map_elements(lambda x: x[0], return_dtype=float)\n",
    "    .alias(\"lat\"),\n",
    "    pl.col(\"xy\")\n",
    "    .map_elements(lambda x: x[1], return_dtype=float)\n",
    "    .alias(\"lng\")\n",
    "])"
   ]
  },
  {
   "cell_type": "code",
   "execution_count": 42,
   "id": "bf66548c-1c88-473b-9ec1-d8e87752e3e0",
   "metadata": {},
   "outputs": [],
   "source": [
    "combined_with_elevation = combined_with_elevation.with_columns([\n",
    "    (pl.col(\"lng\") * math.pi).sin().alias(\"a\"),\n",
    "    (pl.col(\"lat\") * math.pi).sin().alias(\"b\"),\n",
    "    (pl.col(\"lng\") * math.pi).cos().alias(\"c\"),\n",
    "    (pl.col(\"lat\") * math.pi).cos().alias(\"d\"),\n",
    "])"
   ]
  },
  {
   "cell_type": "code",
   "execution_count": 43,
   "id": "3d6d94a0-e146-4792-afe1-127741da2d1c",
   "metadata": {},
   "outputs": [
    {
     "data": {
      "text/html": [
       "<div><style>\n",
       ".dataframe > thead > tr,\n",
       ".dataframe > tbody > tr {\n",
       "  text-align: right;\n",
       "  white-space: pre-wrap;\n",
       "}\n",
       "</style>\n",
       "<small>shape: (5, 10)</small><table border=\"1\" class=\"dataframe\"><thead><tr><th>h3_06</th><th>spatial_class_id</th><th>elevation</th><th>xy</th><th>lat</th><th>lng</th><th>a</th><th>b</th><th>c</th><th>d</th></tr><tr><td>str</td><td>list[i64]</td><td>f64</td><td>list[f64]</td><td>f64</td><td>f64</td><td>f64</td><td>f64</td><td>f64</td><td>f64</td></tr></thead><tbody><tr><td>&quot;861ea6147ffffff&quot;</td><td>[3961, 4991, … 83535]</td><td>0.003419</td><td>[44.840486, 10.562251]</td><td>44.840486</td><td>10.562251</td><td>0.980938</td><td>0.480415</td><td>-0.194323</td><td>-0.877041</td></tr><tr><td>&quot;862773af7ffffff&quot;</td><td>[9344, 12918, 30816]</td><td>0.052999</td><td>[46.896504, -88.786053]</td><td>46.896504</td><td>-88.786053</td><td>-0.622658</td><td>0.319443</td><td>-0.782494</td><td>-0.947606</td></tr><tr><td>&quot;860ecbd77ffffff&quot;</td><td>[801, 35742, … 73878]</td><td>0.033728</td><td>[49.427997, -82.075484]</td><td>49.427997</td><td>-82.075484</td><td>-0.234924</td><td>-0.974525</td><td>0.972014</td><td>-0.22428</td></tr><tr><td>&quot;86441304fffffff&quot;</td><td>[1292, 3834, … 81980]</td><td>-0.568126</td><td>[26.542405, -82.055294]</td><td>26.542405</td><td>-82.055294</td><td>-0.17284</td><td>0.991139</td><td>0.98495</td><td>-0.132826</td></tr><tr><td>&quot;862ab6acfffffff&quot;</td><td>[712, 2774, … 91647]</td><td>0.030936</td><td>[42.82344, -81.871845]</td><td>42.82344</td><td>-81.871845</td><td>0.391823</td><td>0.526671</td><td>0.920041</td><td>-0.850069</td></tr></tbody></table></div>"
      ],
      "text/plain": [
       "shape: (5, 10)\n",
       "┌───────────┬───────────┬───────────┬───────────┬───┬───────────┬───────────┬───────────┬──────────┐\n",
       "│ h3_06     ┆ spatial_c ┆ elevation ┆ xy        ┆ … ┆ a         ┆ b         ┆ c         ┆ d        │\n",
       "│ ---       ┆ lass_id   ┆ ---       ┆ ---       ┆   ┆ ---       ┆ ---       ┆ ---       ┆ ---      │\n",
       "│ str       ┆ ---       ┆ f64       ┆ list[f64] ┆   ┆ f64       ┆ f64       ┆ f64       ┆ f64      │\n",
       "│           ┆ list[i64] ┆           ┆           ┆   ┆           ┆           ┆           ┆          │\n",
       "╞═══════════╪═══════════╪═══════════╪═══════════╪═══╪═══════════╪═══════════╪═══════════╪══════════╡\n",
       "│ 861ea6147 ┆ [3961,    ┆ 0.003419  ┆ [44.84048 ┆ … ┆ 0.980938  ┆ 0.480415  ┆ -0.194323 ┆ -0.87704 │\n",
       "│ ffffff    ┆ 4991, …   ┆           ┆ 6, 10.562 ┆   ┆           ┆           ┆           ┆ 1        │\n",
       "│           ┆ 83535]    ┆           ┆ 251]      ┆   ┆           ┆           ┆           ┆          │\n",
       "│ 862773af7 ┆ [9344,    ┆ 0.052999  ┆ [46.89650 ┆ … ┆ -0.622658 ┆ 0.319443  ┆ -0.782494 ┆ -0.94760 │\n",
       "│ ffffff    ┆ 12918,    ┆           ┆ 4, -88.78 ┆   ┆           ┆           ┆           ┆ 6        │\n",
       "│           ┆ 30816]    ┆           ┆ 6053]     ┆   ┆           ┆           ┆           ┆          │\n",
       "│ 860ecbd77 ┆ [801,     ┆ 0.033728  ┆ [49.42799 ┆ … ┆ -0.234924 ┆ -0.974525 ┆ 0.972014  ┆ -0.22428 │\n",
       "│ ffffff    ┆ 35742, …  ┆           ┆ 7, -82.07 ┆   ┆           ┆           ┆           ┆          │\n",
       "│           ┆ 73878]    ┆           ┆ 5484]     ┆   ┆           ┆           ┆           ┆          │\n",
       "│ 86441304f ┆ [1292,    ┆ -0.568126 ┆ [26.54240 ┆ … ┆ -0.17284  ┆ 0.991139  ┆ 0.98495   ┆ -0.13282 │\n",
       "│ ffffff    ┆ 3834, …   ┆           ┆ 5, -82.05 ┆   ┆           ┆           ┆           ┆ 6        │\n",
       "│           ┆ 81980]    ┆           ┆ 5294]     ┆   ┆           ┆           ┆           ┆          │\n",
       "│ 862ab6acf ┆ [712,     ┆ 0.030936  ┆ [42.82344 ┆ … ┆ 0.391823  ┆ 0.526671  ┆ 0.920041  ┆ -0.85006 │\n",
       "│ ffffff    ┆ 2774, …   ┆           ┆ , -81.871 ┆   ┆           ┆           ┆           ┆ 9        │\n",
       "│           ┆ 91647]    ┆           ┆ 845]      ┆   ┆           ┆           ┆           ┆          │\n",
       "└───────────┴───────────┴───────────┴───────────┴───┴───────────┴───────────┴───────────┴──────────┘"
      ]
     },
     "execution_count": 43,
     "metadata": {},
     "output_type": "execute_result"
    }
   ],
   "source": [
    "combined_with_elevation.sample(5)"
   ]
  },
  {
   "cell_type": "markdown",
   "id": "0da47c4f-0b08-42c4-b64f-381acb650996",
   "metadata": {},
   "source": [
    "# make tfrecords"
   ]
  },
  {
   "cell_type": "code",
   "execution_count": 44,
   "id": "f1be7d3e-87ce-4abd-b182-7c3c97db8a39",
   "metadata": {},
   "outputs": [
    {
     "data": {
      "text/plain": [
       "925122"
      ]
     },
     "execution_count": 44,
     "metadata": {},
     "output_type": "execute_result"
    }
   ],
   "source": [
    "len(combined_with_elevation)"
   ]
  },
  {
   "cell_type": "code",
   "execution_count": 45,
   "id": "43cfb6f8-59ce-4cfc-afa5-5c27f6d39cb4",
   "metadata": {},
   "outputs": [],
   "source": [
    "def create_tf_example(l0, l1, l2, l3, elevation, leaf_class_ids):\n",
    "    tf_example = tf.train.Example(\n",
    "        features=tf.train.Features(\n",
    "            feature={\n",
    "                \"l0\": tf.train.Feature(\n",
    "                    float_list=tf.train.FloatList(value=[l0])\n",
    "                ),\n",
    "                \"l1\": tf.train.Feature(\n",
    "                    float_list=tf.train.FloatList(value=[l1])\n",
    "                ),\n",
    "                \"l2\": tf.train.Feature(\n",
    "                    float_list=tf.train.FloatList(value=[l2])\n",
    "                ),\n",
    "                \"l3\": tf.train.Feature(\n",
    "                    float_list=tf.train.FloatList(value=[l3])\n",
    "                ),\n",
    "                \"elevation\": tf.train.Feature(\n",
    "                    float_list=tf.train.FloatList(value=[elevation])\n",
    "                ),\n",
    "                \"leaf_class_ids\": tf.train.Feature(\n",
    "                    int64_list=tf.train.Int64List(value=leaf_class_ids)\n",
    "                ),\n",
    "            }\n",
    "        )\n",
    "    )\n",
    "    return tf_example\n"
   ]
  },
  {
   "cell_type": "code",
   "execution_count": 46,
   "id": "dc1287f5-ad8a-4e59-b5d8-c284a76270b1",
   "metadata": {},
   "outputs": [],
   "source": [
    "os.makedirs(\n",
    "    os.path.join(params[\"export_dir\"], \"geo_spatial_grid_datasets\"),\n",
    "    exist_ok=True,\n",
    ")\n",
    "tfrecord_file = os.path.join(\n",
    "    params[\"export_dir\"],\n",
    "    \"geo_spatial_grid_datasets\",\n",
    "    \"r{}_empty_cells_with_elevation.tf\".format(params[\"h3_resolution\"]),\n",
    ")"
   ]
  },
  {
   "cell_type": "code",
   "execution_count": 47,
   "id": "f721bbd2-bbab-42b0-a962-a18f4561d518",
   "metadata": {},
   "outputs": [
    {
     "name": "stdout",
     "output_type": "stream",
     "text": [
      "  writing tfrecords\n"
     ]
    },
    {
     "data": {
      "application/vnd.jupyter.widget-view+json": {
       "model_id": "60badf53c4af4fb9b57516d26cc907f2",
       "version_major": 2,
       "version_minor": 0
      },
      "text/plain": [
       "  0%|          | 0/925122 [00:00<?, ?it/s]"
      ]
     },
     "metadata": {},
     "output_type": "display_data"
    }
   ],
   "source": [
    "\n",
    "print(\"  writing tfrecords\")\n",
    "with tf.io.TFRecordWriter(tfrecord_file) as writer:\n",
    "    i = 0\n",
    "    for i in tqdm(range(len(combined_with_elevation))):\n",
    "        row = combined_with_elevation[i]\n",
    "\n",
    "        l0 = row[\"a\"].item()\n",
    "        l1 = row[\"b\"].item()\n",
    "        l2 = row[\"c\"].item()\n",
    "        l3 = row[\"d\"].item()\n",
    "\n",
    "        elevation = row[\"elevation\"].item()\n",
    "        cids = list(row[\"spatial_class_id\"].item())\n",
    "        \n",
    "        example = create_tf_example(l0, l1, l2, l3, elevation, cids)\n",
    "        writer.write(example.SerializeToString())\n",
    "    writer.close()\n"
   ]
  },
  {
   "cell_type": "code",
   "execution_count": null,
   "id": "411f2d4a-8a0e-45bf-842d-901148858dee",
   "metadata": {},
   "outputs": [],
   "source": []
  }
 ],
 "metadata": {
  "kernelspec": {
   "display_name": "Python 3 (ipykernel)",
   "language": "python",
   "name": "python3"
  },
  "language_info": {
   "codemirror_mode": {
    "name": "ipython",
    "version": 3
   },
   "file_extension": ".py",
   "mimetype": "text/x-python",
   "name": "python",
   "nbconvert_exporter": "python",
   "pygments_lexer": "ipython3",
   "version": "3.11.7"
  }
 },
 "nbformat": 4,
 "nbformat_minor": 5
}
