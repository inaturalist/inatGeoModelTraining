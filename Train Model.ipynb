{
 "cells": [
  {
   "cell_type": "code",
   "execution_count": 4,
   "id": "c9b007a3-558d-4fc6-a311-3f34a90387fe",
   "metadata": {},
   "outputs": [],
   "source": [
    "import os\n",
    "from pathlib import Path\n",
    "\n",
    "import h3\n",
    "import numpy as np\n",
    "import polars as pl\n",
    "import pandas as pd\n",
    "import tensorflow as tf\n",
    "from tqdm.auto import tqdm"
   ]
  },
  {
   "cell_type": "code",
   "execution_count": 5,
   "id": "baa8d652-4a6d-46f0-a9d0-5c0d3d47576f",
   "metadata": {},
   "outputs": [],
   "source": [
    "params = {\n",
    "    \"export_dir\": \"vision-export-20240929050006-aka-2.17\",\n",
    "    \"export_short_version\": \"2.17\",\n",
    "    \"train_only_cid_data\": True,\n",
    "    \"train_only_wild_data\": False,\n",
    "    \"h3_resolution\": 6,\n",
    "    \"num_random_samples\": 100_000,\n",
    "    \"elevation_file\": \"elevation_h3_resolution6.csv\",\n",
    "    \"experiment_dir\": \"/data-ssd/alex/experiments/geo_prior_tf/2_17\",\n",
    "    \"batch_size\": 1024,\n",
    "    \"num_epochs\": 200,\n",
    "    \"initial_lr\": 0.0005,\n",
    "    \"shuffle_buffer_size\": 5_000,\n",
    "    \"full_shuffle_before_tfrecords\": False,\n",
    "    \"lr_warmup_cosine_decay\": True,\n",
    "    \"wandb_project\": \"geomodel_tf\",\n",
    "}"
   ]
  },
  {
   "cell_type": "code",
   "execution_count": 6,
   "id": "24701de7-a39c-40b2-923d-b41804bb7b91",
   "metadata": {},
   "outputs": [],
   "source": [
    "h3_column_name = \"h3_0{}\".format(params[\"h3_resolution\"])\n",
    "export_dir = Path(params[\"export_dir\"])"
   ]
  },
  {
   "cell_type": "code",
   "execution_count": 7,
   "id": "6f9dc360-ac6e-4f11-aa00-a96dd53cad19",
   "metadata": {},
   "outputs": [
    {
     "data": {
      "text/html": [
       "<div><style>\n",
       ".dataframe > thead > tr,\n",
       ".dataframe > tbody > tr {\n",
       "  text-align: right;\n",
       "  white-space: pre-wrap;\n",
       "}\n",
       "</style>\n",
       "<small>shape: (95_903, 4)</small><table border=\"1\" class=\"dataframe\"><thead><tr><th>taxon_id</th><th>leaf_class_id</th><th>spatial_class_id</th><th>name</th></tr><tr><td>i64</td><td>i64</td><td>i64</td><td>str</td></tr></thead><tbody><tr><td>129726</td><td>95877</td><td>95877</td><td>&quot;Cephalochordata&quot;</td></tr><tr><td>48272</td><td>40739</td><td>40739</td><td>&quot;Ciona intestinalis&quot;</td></tr><tr><td>81614</td><td>30262</td><td>30262</td><td>&quot;Ciona savignyi&quot;</td></tr><tr><td>712964</td><td>54943</td><td>54943</td><td>&quot;Ciona robusta&quot;</td></tr><tr><td>472689</td><td>62312</td><td>62312</td><td>&quot;Ascidia mentula&quot;</td></tr><tr><td>&hellip;</td><td>&hellip;</td><td>&hellip;</td><td>&hellip;</td></tr><tr><td>783080</td><td>95309</td><td>95309</td><td>&quot;Firstpapillomavirinae&quot;</td></tr><tr><td>914165</td><td>90922</td><td>90922</td><td>&quot;Begomovirus&quot;</td></tr><tr><td>1538530</td><td>29137</td><td>29137</td><td>&quot;Bracoviriform congregatae&quot;</td></tr><tr><td>1538531</td><td>45009</td><td>45009</td><td>&quot;Bracoviriform glomeratae&quot;</td></tr><tr><td>151817</td><td>95900</td><td>95900</td><td>&quot;Archaea&quot;</td></tr></tbody></table></div>"
      ],
      "text/plain": [
       "shape: (95_903, 4)\n",
       "┌──────────┬───────────────┬──────────────────┬───────────────────────────┐\n",
       "│ taxon_id ┆ leaf_class_id ┆ spatial_class_id ┆ name                      │\n",
       "│ ---      ┆ ---           ┆ ---              ┆ ---                       │\n",
       "│ i64      ┆ i64           ┆ i64              ┆ str                       │\n",
       "╞══════════╪═══════════════╪══════════════════╪═══════════════════════════╡\n",
       "│ 129726   ┆ 95877         ┆ 95877            ┆ Cephalochordata           │\n",
       "│ 48272    ┆ 40739         ┆ 40739            ┆ Ciona intestinalis        │\n",
       "│ 81614    ┆ 30262         ┆ 30262            ┆ Ciona savignyi            │\n",
       "│ 712964   ┆ 54943         ┆ 54943            ┆ Ciona robusta             │\n",
       "│ 472689   ┆ 62312         ┆ 62312            ┆ Ascidia mentula           │\n",
       "│ …        ┆ …             ┆ …                ┆ …                         │\n",
       "│ 783080   ┆ 95309         ┆ 95309            ┆ Firstpapillomavirinae     │\n",
       "│ 914165   ┆ 90922         ┆ 90922            ┆ Begomovirus               │\n",
       "│ 1538530  ┆ 29137         ┆ 29137            ┆ Bracoviriform congregatae │\n",
       "│ 1538531  ┆ 45009         ┆ 45009            ┆ Bracoviriform glomeratae  │\n",
       "│ 151817   ┆ 95900         ┆ 95900            ┆ Archaea                   │\n",
       "└──────────┴───────────────┴──────────────────┴───────────────────────────┘"
      ]
     },
     "execution_count": 7,
     "metadata": {},
     "output_type": "execute_result"
    }
   ],
   "source": [
    "tax = pl.read_csv(\n",
    "    export_dir / \"taxonomy.csv\",\n",
    "    columns=[\"leaf_class_id\", \"spatial_class_id\", \"taxon_id\", \"name\"],\n",
    ")\n",
    "leaf_tax = tax.filter(\n",
    "    ~pl.col(\"leaf_class_id\").is_null()\n",
    ")\n",
    "leaf_tax"
   ]
  },
  {
   "cell_type": "code",
   "execution_count": 8,
   "id": "103cac11-d820-4600-9625-8abd68b5fd5b",
   "metadata": {},
   "outputs": [
    {
     "data": {
      "text/plain": [
       "95903"
      ]
     },
     "execution_count": 8,
     "metadata": {},
     "output_type": "execute_result"
    }
   ],
   "source": [
    "num_classes = len(leaf_tax)\n",
    "num_classes"
   ]
  },
  {
   "cell_type": "code",
   "execution_count": 9,
   "id": "2bd1a962-5e73-42ee-8e03-923e2528a0d5",
   "metadata": {},
   "outputs": [],
   "source": [
    "tfrecord_file = os.path.join(\n",
    "    params[\"export_dir\"],\n",
    "    \"geo_spatial_grid_datasets\",\n",
    "    \"r{}_empty_cells_with_elevation.tf\".format(params[\"h3_resolution\"]),\n",
    ")"
   ]
  },
  {
   "cell_type": "markdown",
   "id": "01f66347-d291-4a15-846d-98c078ab2b1b",
   "metadata": {},
   "source": [
    "# cool let's train a model"
   ]
  },
  {
   "cell_type": "code",
   "execution_count": 10,
   "id": "4ff48b0a-cbd9-430d-89e6-00d3d902b523",
   "metadata": {},
   "outputs": [],
   "source": [
    "class ResLayer(tf.keras.layers.Layer):\n",
    "    def __init__(self):\n",
    "        super(ResLayer, self).__init__()\n",
    "        self.w1 = tf.keras.layers.Dense(\n",
    "            256, activation=\"relu\", kernel_initializer=\"he_normal\", use_bias=False\n",
    "        )\n",
    "        self.w2 = tf.keras.layers.Dense(\n",
    "            256, activation=\"relu\", kernel_initializer=\"he_normal\", use_bias=False,\n",
    "        )\n",
    "        self.dropout = tf.keras.layers.Dropout(rate=0.5)\n",
    "        self.add = tf.keras.layers.Add()\n",
    "\n",
    "    def call(self, inputs):\n",
    "        x = self.w1(inputs)\n",
    "        x = self.dropout(x)\n",
    "        x = self.w2(x)\n",
    "        x = self.add([x, inputs])\n",
    "        return x\n",
    "\n",
    "    def get_config(self):\n",
    "        return {}"
   ]
  },
  {
   "cell_type": "code",
   "execution_count": 11,
   "id": "9a01d478-3a3f-4ad1-86f4-0327b776ec21",
   "metadata": {},
   "outputs": [
    {
     "name": "stdout",
     "output_type": "stream",
     "text": [
      "Model: \"sequential\"\n",
      "_________________________________________________________________\n",
      " Layer (type)                Output Shape              Param #   \n",
      "=================================================================\n",
      " dense (Dense)               (None, 256)               1280      \n",
      "                                                                 \n",
      " res_layer (ResLayer)        (None, 256)               131072    \n",
      "                                                                 \n",
      " res_layer_1 (ResLayer)      (None, 256)               131072    \n",
      "                                                                 \n",
      " res_layer_2 (ResLayer)      (None, 256)               131072    \n",
      "                                                                 \n",
      " res_layer_3 (ResLayer)      (None, 256)               131072    \n",
      "                                                                 \n",
      " dense_9 (Dense)             (None, 95903)             24551168  \n",
      "                                                                 \n",
      " dropout_4 (Dropout)         (None, 95903)             0         \n",
      "                                                                 \n",
      " predictions (Activation)    (None, 95903)             0         \n",
      "                                                                 \n",
      "=================================================================\n",
      "Total params: 25076736 (95.66 MB)\n",
      "Trainable params: 25076736 (95.66 MB)\n",
      "Non-trainable params: 0 (0.00 Byte)\n",
      "_________________________________________________________________\n"
     ]
    },
    {
     "name": "stderr",
     "output_type": "stream",
     "text": [
      "2024-10-25 14:43:25.421153: I metal_plugin/src/device/metal_device.cc:1154] Metal device set to: Apple M3 Pro\n",
      "2024-10-25 14:43:25.421193: I metal_plugin/src/device/metal_device.cc:296] systemMemory: 18.00 GB\n",
      "2024-10-25 14:43:25.421200: I metal_plugin/src/device/metal_device.cc:313] maxCacheSize: 6.00 GB\n",
      "2024-10-25 14:43:25.421230: I tensorflow/core/common_runtime/pluggable_device/pluggable_device_factory.cc:306] Could not identify NUMA node of platform GPU ID 0, defaulting to 0. Your kernel may not have been built with NUMA support.\n",
      "2024-10-25 14:43:25.421248: I tensorflow/core/common_runtime/pluggable_device/pluggable_device_factory.cc:272] Created TensorFlow device (/job:localhost/replica:0/task:0/device:GPU:0 with 0 MB memory) -> physical PluggableDevice (device: 0, name: METAL, pci bus id: <undefined>)\n"
     ]
    }
   ],
   "source": [
    "fcnet = tf.keras.models.Sequential(\n",
    "    [\n",
    "        tf.keras.layers.Input(\n",
    "            5,\n",
    "        ),\n",
    "        # encode_location_layer,\n",
    "        tf.keras.layers.Dense(\n",
    "            256, activation=\"relu\", kernel_initializer=\"he_normal\", use_bias=False\n",
    "        ),\n",
    "        ResLayer(),\n",
    "        ResLayer(),\n",
    "        ResLayer(),\n",
    "        ResLayer(),\n",
    "        tf.keras.layers.Dense(num_classes, use_bias=False),\n",
    "        tf.keras.layers.Dropout(rate=0.2),\n",
    "        tf.keras.layers.Activation(\"sigmoid\", dtype=\"float32\", name=\"predictions\"),\n",
    "    ]\n",
    ")\n",
    "fcnet.summary()"
   ]
  },
  {
   "cell_type": "markdown",
   "id": "60fea3dc-8352-4d81-9183-713397ebb21f",
   "metadata": {},
   "source": [
    "#### make tf.data dataset"
   ]
  },
  {
   "cell_type": "code",
   "execution_count": 12,
   "id": "1185431a-5e74-4306-a636-cd181c5793ba",
   "metadata": {},
   "outputs": [],
   "source": [
    "gp_grid_feature_description = {\n",
    "    \"l0\": tf.io.FixedLenFeature([], tf.float32),\n",
    "    \"l1\": tf.io.FixedLenFeature([], tf.float32),\n",
    "    \"l2\": tf.io.FixedLenFeature([], tf.float32),\n",
    "    \"l3\": tf.io.FixedLenFeature([], tf.float32),\n",
    "    \"elevation\": tf.io.FixedLenFeature([], tf.float32),\n",
    "    \"leaf_class_ids\": tf.io.VarLenFeature(tf.int64),\n",
    "}\n",
    "def grid_parse_function(example_proto):\n",
    "    # Parse the input tf.train.Example proto using the dictionary above.\n",
    "    return tf.io.parse_single_example(\n",
    "        example_proto, gp_grid_feature_description\n",
    "    )\n",
    "def preprocess_line(line):\n",
    "    l0 = tf.expand_dims(line[\"l0\"], axis=0)\n",
    "    l1 = tf.expand_dims(line[\"l1\"], axis=0)\n",
    "    l2 = tf.expand_dims(line[\"l2\"], axis=0)\n",
    "    l3 = tf.expand_dims(line[\"l3\"], axis=0)\n",
    "    elevation = tf.expand_dims(line[\"elevation\"], axis=0)\n",
    "    encoded_loc = tf.concat([l0, l1, l2, l3, elevation], axis=0)\n",
    "    leaf_class_ids = multi_hot(line[\"leaf_class_ids\"])\n",
    "    return encoded_loc, leaf_class_ids"
   ]
  },
  {
   "cell_type": "code",
   "execution_count": 13,
   "id": "b890b680-a9a0-47cb-a88e-d6899f72e690",
   "metadata": {},
   "outputs": [],
   "source": [
    "raw_dataset = tf.data.TFRecordDataset(tfrecord_file)"
   ]
  },
  {
   "cell_type": "code",
   "execution_count": 14,
   "id": "49798f37-c407-4164-b71f-375460f9adca",
   "metadata": {},
   "outputs": [
    {
     "name": "stdout",
     "output_type": "stream",
     "text": [
      "-rw-r--r--@ 1 alex  staff   231M Oct 25 14:39 vision-export-20240929050006-aka-2.17/geo_spatial_grid_datasets/r6_empty_cells_with_elevation.tf\n"
     ]
    }
   ],
   "source": [
    "!ls -lah {tfrecord_file}"
   ]
  },
  {
   "cell_type": "code",
   "execution_count": 15,
   "id": "27d79bbe-c939-40f5-b6dd-0d3b7a0087d2",
   "metadata": {},
   "outputs": [],
   "source": [
    "# isn't there a better way to do this? cardinality?\n",
    "num_examples = len(list(raw_dataset))"
   ]
  },
  {
   "cell_type": "code",
   "execution_count": 16,
   "id": "b825b6b4-ebb1-45a5-9a4b-279a1b021f6f",
   "metadata": {},
   "outputs": [],
   "source": [
    "multi_hot = tf.keras.layers.CategoryEncoding(\n",
    "    num_tokens=num_classes, output_mode=\"multi_hot\"\n",
    ")\n",
    "ds = raw_dataset.map(grid_parse_function)\n",
    "ds = ds.map(preprocess_line)\n",
    "ds = ds.shuffle(params[\"shuffle_buffer_size\"], reshuffle_each_iteration=True)\n",
    "ds = ds.batch(params[\"shuffle_buffer_size\"])\n",
    "ds = ds.repeat()\n",
    "ds = ds.prefetch(tf.data.AUTOTUNE)"
   ]
  },
  {
   "cell_type": "code",
   "execution_count": 17,
   "id": "7d430fc5-0907-46db-80e5-223f82278f14",
   "metadata": {},
   "outputs": [],
   "source": [
    "optimizer = tf.keras.optimizers.legacy.Adam(learning_rate=params[\"initial_lr\"])\n",
    "bce = tf.keras.losses.BinaryCrossentropy(from_logits=False)\n",
    "fcnet.compile(\n",
    "    optimizer=optimizer,\n",
    "    loss=bce,\n",
    "    metrics=[\"Precision\", \"Recall\"],\n",
    ")\n"
   ]
  },
  {
   "cell_type": "code",
   "execution_count": 18,
   "id": "405da41c-51e1-4a27-89a8-5fe0c360e90f",
   "metadata": {},
   "outputs": [
    {
     "data": {
      "text/plain": [
       "904"
      ]
     },
     "execution_count": 18,
     "metadata": {},
     "output_type": "execute_result"
    }
   ],
   "source": [
    "steps_per_epoch = int(np.ceil(num_examples / params[\"batch_size\"]))\n",
    "steps_per_epoch"
   ]
  },
  {
   "cell_type": "code",
   "execution_count": null,
   "id": "d8e9a76a-c9e4-4fb2-9fc1-0c08b59566d5",
   "metadata": {},
   "outputs": [
    {
     "name": "stdout",
     "output_type": "stream",
     "text": [
      "Epoch 1/3\n"
     ]
    },
    {
     "name": "stderr",
     "output_type": "stream",
     "text": [
      "2024-10-25 14:44:03.303220: I tensorflow/core/grappler/optimizers/custom_graph_optimizer_registry.cc:117] Plugin optimizer for device_type GPU is enabled.\n"
     ]
    },
    {
     "name": "stdout",
     "output_type": "stream",
     "text": [
      "  7/904 [..............................] - ETA: 2:25:23 - loss: 0.3096 - precision: 6.4094e-05 - recall: 0.0244"
     ]
    }
   ],
   "source": [
    "history = fcnet.fit(\n",
    "    ds,\n",
    "    steps_per_epoch=steps_per_epoch,\n",
    "    epochs=3,\n",
    ")"
   ]
  },
  {
   "cell_type": "code",
   "execution_count": null,
   "id": "d69e53eb-abc6-4728-b777-d0bdf1d446ed",
   "metadata": {},
   "outputs": [
    {
     "name": "stdout",
     "output_type": "stream",
     "text": [
      "Epoch 1/3\n"
     ]
    }
   ],
   "source": [
    "# with tf.device('cpu:0'):\n",
    "\n",
    "#     history = fcnet.fit(\n",
    "#         ds,\n",
    "#         steps_per_epoch=steps_per_epoch,\n",
    "#         epochs=3,\n",
    "#     )\n",
    "#     pass"
   ]
  },
  {
   "cell_type": "code",
   "execution_count": null,
   "id": "ad387341-b280-483f-9ed4-b55c95683ac5",
   "metadata": {},
   "outputs": [],
   "source": []
  }
 ],
 "metadata": {
  "kernelspec": {
   "display_name": "Python 3 (ipykernel)",
   "language": "python",
   "name": "python3"
  },
  "language_info": {
   "codemirror_mode": {
    "name": "ipython",
    "version": 3
   },
   "file_extension": ".py",
   "mimetype": "text/x-python",
   "name": "python",
   "nbconvert_exporter": "python",
   "pygments_lexer": "ipython3",
   "version": "3.11.7"
  }
 },
 "nbformat": 4,
 "nbformat_minor": 5
}
